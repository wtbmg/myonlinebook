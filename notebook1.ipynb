{
 "cells": [
  {
   "cell_type": "markdown",
   "metadata": {},
   "source": [
    "# Question 1\n",
    "\n",
    "Based on existing data, which section(s) inside Disney is/are generating more/less revenue over the years of 1991-2006? Is there a trend? \n",
    "\n",
    "**Methods and Results**\n",
    "\n",
    "To answer Q1:\n",
    "uses only disney_revenue_1991-2016.csv, melt the sections so I can do a plot of each section over the years. \n"
   ]
  },
  {
   "cell_type": "markdown",
   "metadata": {},
   "source": [
    "```{figure} disney-brands.png\n",
    "---\n",
    "height: 300px\n",
    "name: disney-brands\n",
    "---\n",
    "Here's an image from [Disney website](https://lifebeginsatdisney.weebly.com/family-brands.html) demonstrating its various brands.\n",
    "```"
   ]
  },
  {
   "cell_type": "code",
   "execution_count": 1,
   "metadata": {},
   "outputs": [],
   "source": [
    "import pandas as pd\n",
    "import altair as alt\n"
   ]
  },
  {
   "cell_type": "code",
   "execution_count": 9,
   "metadata": {},
   "outputs": [
    {
     "data": {
      "text/html": [
       "<div>\n",
       "<style scoped>\n",
       "    .dataframe tbody tr th:only-of-type {\n",
       "        vertical-align: middle;\n",
       "    }\n",
       "\n",
       "    .dataframe tbody tr th {\n",
       "        vertical-align: top;\n",
       "    }\n",
       "\n",
       "    .dataframe thead th {\n",
       "        text-align: right;\n",
       "    }\n",
       "</style>\n",
       "<table border=\"1\" class=\"dataframe\">\n",
       "  <thead>\n",
       "    <tr style=\"text-align: right;\">\n",
       "      <th></th>\n",
       "      <th>Year</th>\n",
       "      <th>Studio Entertainment[NI 1]</th>\n",
       "      <th>Disney Consumer Products[NI 2]</th>\n",
       "      <th>Disney Interactive[NI 3][Rev 1]</th>\n",
       "      <th>Walt Disney Parks and Resorts</th>\n",
       "      <th>Disney Media Networks</th>\n",
       "      <th>Total</th>\n",
       "    </tr>\n",
       "  </thead>\n",
       "  <tbody>\n",
       "    <tr>\n",
       "      <th>0</th>\n",
       "      <td>1991</td>\n",
       "      <td>2593.0</td>\n",
       "      <td>724.0</td>\n",
       "      <td>NaN</td>\n",
       "      <td>2794.0</td>\n",
       "      <td>NaN</td>\n",
       "      <td>6111</td>\n",
       "    </tr>\n",
       "    <tr>\n",
       "      <th>1</th>\n",
       "      <td>1992</td>\n",
       "      <td>3115.0</td>\n",
       "      <td>1081.0</td>\n",
       "      <td>NaN</td>\n",
       "      <td>3306.0</td>\n",
       "      <td>NaN</td>\n",
       "      <td>7502</td>\n",
       "    </tr>\n",
       "    <tr>\n",
       "      <th>2</th>\n",
       "      <td>1993</td>\n",
       "      <td>3673.4</td>\n",
       "      <td>1415.1</td>\n",
       "      <td>NaN</td>\n",
       "      <td>3440.7</td>\n",
       "      <td>NaN</td>\n",
       "      <td>8529</td>\n",
       "    </tr>\n",
       "    <tr>\n",
       "      <th>3</th>\n",
       "      <td>1994</td>\n",
       "      <td>4793.0</td>\n",
       "      <td>1798.2</td>\n",
       "      <td>NaN</td>\n",
       "      <td>3463.6</td>\n",
       "      <td>359</td>\n",
       "      <td>10414</td>\n",
       "    </tr>\n",
       "    <tr>\n",
       "      <th>4</th>\n",
       "      <td>1995</td>\n",
       "      <td>6001.5</td>\n",
       "      <td>2150.0</td>\n",
       "      <td>NaN</td>\n",
       "      <td>3959.8</td>\n",
       "      <td>414</td>\n",
       "      <td>12525</td>\n",
       "    </tr>\n",
       "  </tbody>\n",
       "</table>\n",
       "</div>"
      ],
      "text/plain": [
       "   Year  Studio Entertainment[NI 1]  Disney Consumer Products[NI 2]  \\\n",
       "0  1991                      2593.0                           724.0   \n",
       "1  1992                      3115.0                          1081.0   \n",
       "2  1993                      3673.4                          1415.1   \n",
       "3  1994                      4793.0                          1798.2   \n",
       "4  1995                      6001.5                          2150.0   \n",
       "\n",
       "   Disney Interactive[NI 3][Rev 1]  Walt Disney Parks and Resorts  \\\n",
       "0                              NaN                         2794.0   \n",
       "1                              NaN                         3306.0   \n",
       "2                              NaN                         3440.7   \n",
       "3                              NaN                         3463.6   \n",
       "4                              NaN                         3959.8   \n",
       "\n",
       "  Disney Media Networks  Total  \n",
       "0                   NaN   6111  \n",
       "1                   NaN   7502  \n",
       "2                   NaN   8529  \n",
       "3                   359  10414  \n",
       "4                   414  12525  "
      ]
     },
     "execution_count": 9,
     "metadata": {},
     "output_type": "execute_result"
    }
   ],
   "source": [
    "# import potentially useful files\n",
    "revenues = pd.read_csv('data/disney_revenue_1991-2016.csv')\n",
    "revenues.head(5)"
   ]
  },
  {
   "cell_type": "markdown",
   "metadata": {},
   "source": [
    "```{figure} Disney_Interactive_Logo.png \n",
    "---\n",
    "height: 300px\n",
    "name: disney-interactive\n",
    "---\n",
    "Disney Interactive\n",
    "```"
   ]
  },
  {
   "cell_type": "markdown",
   "metadata": {},
   "source": [
    "Figure 4 above is a logo of Disney Interactive. Look closer at {numref}`disney-brands` you'll notice a Disney Interactive Studio, which appears to be part of Disney Interactive over times. "
   ]
  },
  {
   "cell_type": "code",
   "execution_count": 3,
   "metadata": {},
   "outputs": [
    {
     "name": "stdout",
     "output_type": "stream",
     "text": [
      "<class 'pandas.core.frame.DataFrame'>\n",
      "Int64Index: 21 entries, 3 to 24\n",
      "Data columns (total 6 columns):\n",
      " #   Column                          Non-Null Count  Dtype  \n",
      "---  ------                          --------------  -----  \n",
      " 0   Year                            21 non-null     int64  \n",
      " 1   Studio Entertainment[NI 1]      21 non-null     float64\n",
      " 2   Disney Consumer Products[NI 2]  21 non-null     float64\n",
      " 3   Walt Disney Parks and Resorts   21 non-null     float64\n",
      " 4   Disney Media Networks           21 non-null     object \n",
      " 5   Total                           21 non-null     int64  \n",
      "dtypes: float64(3), int64(2), object(1)\n",
      "memory usage: 1.1+ KB\n"
     ]
    }
   ],
   "source": [
    "# drop Disney Interactive as a category for comparison, due to more than half of NaN values in the column\n",
    "# also drop other years with NaN values \n",
    "\n",
    "revenues1 = revenues.drop(columns = 'Disney Interactive[NI 3][Rev 1]')\n",
    "revenues1 = revenues1.dropna()\n",
    "revenues1.info()"
   ]
  },
  {
   "cell_type": "markdown",
   "metadata": {},
   "source": [
    "Just as a note, my approach to NaN values here is to drop them. As we've learned in the python class, alternatives to dropping NaN values is to use the values from preceding or following years. \n",
    "\n",
    "To cite [this source](https://medium.com/@dkatzman_3920/how-to-deal-with-missing-or-na-values-in-the-dataset-7d8f1693450d) {cite:p}`Dav20`: \"it often times may make more sense instead to use more mathematical ways of imputing missing values. For instance, it may make sense to impute some sort of summary statistic for that variable, whether it be the mean, median, or mode for a continuous variable, or the mode for a categorical variable.\"\n",
    "\n",
    "Hence, the code cells below show what code we can use, if we there to adopt these approaches.\n"
   ]
  },
  {
   "cell_type": "markdown",
   "metadata": {},
   "source": [
    "```\n",
    "revenues_bfill = revenues.fillna(method='bfill'\n",
    "```"
   ]
  },
  {
   "cell_type": "markdown",
   "metadata": {},
   "source": [
    "```\n",
    "revenues_ffill = revenues.fillna(method='ffill'\n",
    "```"
   ]
  },
  {
   "cell_type": "code",
   "execution_count": 4,
   "metadata": {},
   "outputs": [
    {
     "data": {
      "text/html": [
       "<div>\n",
       "<style scoped>\n",
       "    .dataframe tbody tr th:only-of-type {\n",
       "        vertical-align: middle;\n",
       "    }\n",
       "\n",
       "    .dataframe tbody tr th {\n",
       "        vertical-align: top;\n",
       "    }\n",
       "\n",
       "    .dataframe thead th {\n",
       "        text-align: right;\n",
       "    }\n",
       "</style>\n",
       "<table border=\"1\" class=\"dataframe\">\n",
       "  <thead>\n",
       "    <tr style=\"text-align: right;\">\n",
       "      <th></th>\n",
       "      <th>Year</th>\n",
       "      <th>Studio Entertainment[NI 1]</th>\n",
       "      <th>Disney Consumer Products[NI 2]</th>\n",
       "      <th>Walt Disney Parks and Resorts</th>\n",
       "      <th>Disney Media Networks</th>\n",
       "      <th>Total</th>\n",
       "    </tr>\n",
       "  </thead>\n",
       "  <tbody>\n",
       "    <tr>\n",
       "      <th>max</th>\n",
       "      <td>2015.0</td>\n",
       "      <td>8713.0</td>\n",
       "      <td>4499.0</td>\n",
       "      <td>16162.0</td>\n",
       "      <td>9733</td>\n",
       "      <td>52465.0</td>\n",
       "    </tr>\n",
       "    <tr>\n",
       "      <th>min</th>\n",
       "      <td>1994.0</td>\n",
       "      <td>4793.0</td>\n",
       "      <td>1798.2</td>\n",
       "      <td>3463.6</td>\n",
       "      <td>10941</td>\n",
       "      <td>10414.0</td>\n",
       "    </tr>\n",
       "    <tr>\n",
       "      <th>median</th>\n",
       "      <td>2005.0</td>\n",
       "      <td>6849.0</td>\n",
       "      <td>2590.0</td>\n",
       "      <td>9023.0</td>\n",
       "      <td>13207.0</td>\n",
       "      <td>31944.0</td>\n",
       "    </tr>\n",
       "  </tbody>\n",
       "</table>\n",
       "</div>"
      ],
      "text/plain": [
       "          Year  Studio Entertainment[NI 1]  Disney Consumer Products[NI 2]  \\\n",
       "max     2015.0                      8713.0                          4499.0   \n",
       "min     1994.0                      4793.0                          1798.2   \n",
       "median  2005.0                      6849.0                          2590.0   \n",
       "\n",
       "        Walt Disney Parks and Resorts Disney Media Networks    Total  \n",
       "max                           16162.0                  9733  52465.0  \n",
       "min                            3463.6                 10941  10414.0  \n",
       "median                         9023.0               13207.0  31944.0  "
      ]
     },
     "execution_count": 4,
     "metadata": {},
     "output_type": "execute_result"
    }
   ],
   "source": [
    "revenues1.agg(['max','min','median'])"
   ]
  },
  {
   "cell_type": "code",
   "execution_count": 5,
   "metadata": {},
   "outputs": [],
   "source": [
    "#renamed column for plotting as special character is causing the plot column to be unreadable earlier\n",
    "revenues1 = revenues1.rename(columns = {'Studio Entertainment[NI 1]':'Studio EntertainmentNI 1', 'Disney Consumer Products[NI 2]':'Disney Consumer ProductsNI 2'})\n",
    "\n",
    "#change dtype for Disney Media Networks to float\n",
    "revenues1 = revenues1.rename(columns = {'Disney Media Networks':'Disney_Media_Networks'})\n",
    "revenues1 = revenues1.assign(Disney_Media_Networks = revenues1['Disney_Media_Networks'].astype('float'))\n",
    "\n",
    "                        "
   ]
  },
  {
   "cell_type": "code",
   "execution_count": 6,
   "metadata": {},
   "outputs": [
    {
     "data": {
      "text/html": [
       "<div>\n",
       "<style scoped>\n",
       "    .dataframe tbody tr th:only-of-type {\n",
       "        vertical-align: middle;\n",
       "    }\n",
       "\n",
       "    .dataframe tbody tr th {\n",
       "        vertical-align: top;\n",
       "    }\n",
       "\n",
       "    .dataframe thead th {\n",
       "        text-align: right;\n",
       "    }\n",
       "</style>\n",
       "<table border=\"1\" class=\"dataframe\">\n",
       "  <thead>\n",
       "    <tr style=\"text-align: right;\">\n",
       "      <th></th>\n",
       "      <th>Year</th>\n",
       "      <th>Sections</th>\n",
       "      <th>value</th>\n",
       "    </tr>\n",
       "  </thead>\n",
       "  <tbody>\n",
       "    <tr>\n",
       "      <th>0</th>\n",
       "      <td>1994</td>\n",
       "      <td>Studio EntertainmentNI 1</td>\n",
       "      <td>4793.0</td>\n",
       "    </tr>\n",
       "    <tr>\n",
       "      <th>1</th>\n",
       "      <td>1995</td>\n",
       "      <td>Studio EntertainmentNI 1</td>\n",
       "      <td>6001.5</td>\n",
       "    </tr>\n",
       "    <tr>\n",
       "      <th>2</th>\n",
       "      <td>1997</td>\n",
       "      <td>Studio EntertainmentNI 1</td>\n",
       "      <td>6981.0</td>\n",
       "    </tr>\n",
       "    <tr>\n",
       "      <th>3</th>\n",
       "      <td>1998</td>\n",
       "      <td>Studio EntertainmentNI 1</td>\n",
       "      <td>6849.0</td>\n",
       "    </tr>\n",
       "    <tr>\n",
       "      <th>4</th>\n",
       "      <td>1999</td>\n",
       "      <td>Studio EntertainmentNI 1</td>\n",
       "      <td>6548.0</td>\n",
       "    </tr>\n",
       "    <tr>\n",
       "      <th>...</th>\n",
       "      <td>...</td>\n",
       "      <td>...</td>\n",
       "      <td>...</td>\n",
       "    </tr>\n",
       "    <tr>\n",
       "      <th>79</th>\n",
       "      <td>2011</td>\n",
       "      <td>Disney_Media_Networks</td>\n",
       "      <td>18714.0</td>\n",
       "    </tr>\n",
       "    <tr>\n",
       "      <th>80</th>\n",
       "      <td>2012</td>\n",
       "      <td>Disney_Media_Networks</td>\n",
       "      <td>19436.0</td>\n",
       "    </tr>\n",
       "    <tr>\n",
       "      <th>81</th>\n",
       "      <td>2013</td>\n",
       "      <td>Disney_Media_Networks</td>\n",
       "      <td>20356.0</td>\n",
       "    </tr>\n",
       "    <tr>\n",
       "      <th>82</th>\n",
       "      <td>2014</td>\n",
       "      <td>Disney_Media_Networks</td>\n",
       "      <td>21152.0</td>\n",
       "    </tr>\n",
       "    <tr>\n",
       "      <th>83</th>\n",
       "      <td>2015</td>\n",
       "      <td>Disney_Media_Networks</td>\n",
       "      <td>23264.0</td>\n",
       "    </tr>\n",
       "  </tbody>\n",
       "</table>\n",
       "<p>84 rows × 3 columns</p>\n",
       "</div>"
      ],
      "text/plain": [
       "    Year                  Sections    value\n",
       "0   1994  Studio EntertainmentNI 1   4793.0\n",
       "1   1995  Studio EntertainmentNI 1   6001.5\n",
       "2   1997  Studio EntertainmentNI 1   6981.0\n",
       "3   1998  Studio EntertainmentNI 1   6849.0\n",
       "4   1999  Studio EntertainmentNI 1   6548.0\n",
       "..   ...                       ...      ...\n",
       "79  2011     Disney_Media_Networks  18714.0\n",
       "80  2012     Disney_Media_Networks  19436.0\n",
       "81  2013     Disney_Media_Networks  20356.0\n",
       "82  2014     Disney_Media_Networks  21152.0\n",
       "83  2015     Disney_Media_Networks  23264.0\n",
       "\n",
       "[84 rows x 3 columns]"
      ]
     },
     "execution_count": 6,
     "metadata": {},
     "output_type": "execute_result"
    }
   ],
   "source": [
    "#melt revenues section columns so they can be plotted on the same chart for visual comparison \n",
    "melted_revenues1 = (revenues1.melt(id_vars = ['Year'],\n",
    "        value_vars=['Studio EntertainmentNI 1', 'Disney Consumer ProductsNI 2', 'Walt Disney Parks and Resorts', 'Disney_Media_Networks'],\n",
    "        var_name = 'Sections',\n",
    "        value_name = 'value'))\n",
    "melted_revenues1\n",
    "\n"
   ]
  },
  {
   "cell_type": "markdown",
   "metadata": {},
   "source": [
    "Below is a plot generalized to show melted revenues changes over time."
   ]
  },
  {
   "cell_type": "code",
   "execution_count": 7,
   "metadata": {
    "tags": [
     "hide-input"
    ]
   },
   "outputs": [
    {
     "data": {
      "text/html": [
       "\n",
       "<div id=\"altair-viz-6f573429d8b241f98433e647b82dbbec\"></div>\n",
       "<script type=\"text/javascript\">\n",
       "  var VEGA_DEBUG = (typeof VEGA_DEBUG == \"undefined\") ? {} : VEGA_DEBUG;\n",
       "  (function(spec, embedOpt){\n",
       "    let outputDiv = document.currentScript.previousElementSibling;\n",
       "    if (outputDiv.id !== \"altair-viz-6f573429d8b241f98433e647b82dbbec\") {\n",
       "      outputDiv = document.getElementById(\"altair-viz-6f573429d8b241f98433e647b82dbbec\");\n",
       "    }\n",
       "    const paths = {\n",
       "      \"vega\": \"https://cdn.jsdelivr.net/npm//vega@5?noext\",\n",
       "      \"vega-lib\": \"https://cdn.jsdelivr.net/npm//vega-lib?noext\",\n",
       "      \"vega-lite\": \"https://cdn.jsdelivr.net/npm//vega-lite@4.17.0?noext\",\n",
       "      \"vega-embed\": \"https://cdn.jsdelivr.net/npm//vega-embed@6?noext\",\n",
       "    };\n",
       "\n",
       "    function maybeLoadScript(lib, version) {\n",
       "      var key = `${lib.replace(\"-\", \"\")}_version`;\n",
       "      return (VEGA_DEBUG[key] == version) ?\n",
       "        Promise.resolve(paths[lib]) :\n",
       "        new Promise(function(resolve, reject) {\n",
       "          var s = document.createElement('script');\n",
       "          document.getElementsByTagName(\"head\")[0].appendChild(s);\n",
       "          s.async = true;\n",
       "          s.onload = () => {\n",
       "            VEGA_DEBUG[key] = version;\n",
       "            return resolve(paths[lib]);\n",
       "          };\n",
       "          s.onerror = () => reject(`Error loading script: ${paths[lib]}`);\n",
       "          s.src = paths[lib];\n",
       "        });\n",
       "    }\n",
       "\n",
       "    function showError(err) {\n",
       "      outputDiv.innerHTML = `<div class=\"error\" style=\"color:red;\">${err}</div>`;\n",
       "      throw err;\n",
       "    }\n",
       "\n",
       "    function displayChart(vegaEmbed) {\n",
       "      vegaEmbed(outputDiv, spec, embedOpt)\n",
       "        .catch(err => showError(`Javascript Error: ${err.message}<br>This usually means there's a typo in your chart specification. See the javascript console for the full traceback.`));\n",
       "    }\n",
       "\n",
       "    if(typeof define === \"function\" && define.amd) {\n",
       "      requirejs.config({paths});\n",
       "      require([\"vega-embed\"], displayChart, err => showError(`Error loading script: ${err.message}`));\n",
       "    } else {\n",
       "      maybeLoadScript(\"vega\", \"5\")\n",
       "        .then(() => maybeLoadScript(\"vega-lite\", \"4.17.0\"))\n",
       "        .then(() => maybeLoadScript(\"vega-embed\", \"6\"))\n",
       "        .catch(showError)\n",
       "        .then(() => displayChart(vegaEmbed));\n",
       "    }\n",
       "  })({\"config\": {\"view\": {\"continuousWidth\": 400, \"continuousHeight\": 300}}, \"data\": {\"name\": \"data-7d39e4e20bf5cc5caccb968f4398009e\"}, \"mark\": \"line\", \"encoding\": {\"color\": {\"field\": \"Sections\", \"type\": \"nominal\"}, \"x\": {\"field\": \"Year\", \"type\": \"quantitative\"}, \"y\": {\"field\": \"value\", \"type\": \"quantitative\"}}, \"$schema\": \"https://vega.github.io/schema/vega-lite/v4.17.0.json\", \"datasets\": {\"data-7d39e4e20bf5cc5caccb968f4398009e\": [{\"Year\": 1994, \"Sections\": \"Studio EntertainmentNI 1\", \"value\": 4793.0}, {\"Year\": 1995, \"Sections\": \"Studio EntertainmentNI 1\", \"value\": 6001.5}, {\"Year\": 1997, \"Sections\": \"Studio EntertainmentNI 1\", \"value\": 6981.0}, {\"Year\": 1998, \"Sections\": \"Studio EntertainmentNI 1\", \"value\": 6849.0}, {\"Year\": 1999, \"Sections\": \"Studio EntertainmentNI 1\", \"value\": 6548.0}, {\"Year\": 2000, \"Sections\": \"Studio EntertainmentNI 1\", \"value\": 5994.0}, {\"Year\": 2001, \"Sections\": \"Studio EntertainmentNI 1\", \"value\": 7004.0}, {\"Year\": 2002, \"Sections\": \"Studio EntertainmentNI 1\", \"value\": 6465.0}, {\"Year\": 2003, \"Sections\": \"Studio EntertainmentNI 1\", \"value\": 7364.0}, {\"Year\": 2004, \"Sections\": \"Studio EntertainmentNI 1\", \"value\": 8713.0}, {\"Year\": 2005, \"Sections\": \"Studio EntertainmentNI 1\", \"value\": 7587.0}, {\"Year\": 2006, \"Sections\": \"Studio EntertainmentNI 1\", \"value\": 7529.0}, {\"Year\": 2007, \"Sections\": \"Studio EntertainmentNI 1\", \"value\": 7491.0}, {\"Year\": 2008, \"Sections\": \"Studio EntertainmentNI 1\", \"value\": 7348.0}, {\"Year\": 2009, \"Sections\": \"Studio EntertainmentNI 1\", \"value\": 6136.0}, {\"Year\": 2010, \"Sections\": \"Studio EntertainmentNI 1\", \"value\": 6701.0}, {\"Year\": 2011, \"Sections\": \"Studio EntertainmentNI 1\", \"value\": 6351.0}, {\"Year\": 2012, \"Sections\": \"Studio EntertainmentNI 1\", \"value\": 5825.0}, {\"Year\": 2013, \"Sections\": \"Studio EntertainmentNI 1\", \"value\": 5979.0}, {\"Year\": 2014, \"Sections\": \"Studio EntertainmentNI 1\", \"value\": 7278.0}, {\"Year\": 2015, \"Sections\": \"Studio EntertainmentNI 1\", \"value\": 7366.0}, {\"Year\": 1994, \"Sections\": \"Disney Consumer ProductsNI 2\", \"value\": 1798.2}, {\"Year\": 1995, \"Sections\": \"Disney Consumer ProductsNI 2\", \"value\": 2150.0}, {\"Year\": 1997, \"Sections\": \"Disney Consumer ProductsNI 2\", \"value\": 3782.0}, {\"Year\": 1998, \"Sections\": \"Disney Consumer ProductsNI 2\", \"value\": 3193.0}, {\"Year\": 1999, \"Sections\": \"Disney Consumer ProductsNI 2\", \"value\": 3030.0}, {\"Year\": 2000, \"Sections\": \"Disney Consumer ProductsNI 2\", \"value\": 2602.0}, {\"Year\": 2001, \"Sections\": \"Disney Consumer ProductsNI 2\", \"value\": 2590.0}, {\"Year\": 2002, \"Sections\": \"Disney Consumer ProductsNI 2\", \"value\": 2440.0}, {\"Year\": 2003, \"Sections\": \"Disney Consumer ProductsNI 2\", \"value\": 2344.0}, {\"Year\": 2004, \"Sections\": \"Disney Consumer ProductsNI 2\", \"value\": 2511.0}, {\"Year\": 2005, \"Sections\": \"Disney Consumer ProductsNI 2\", \"value\": 2127.0}, {\"Year\": 2006, \"Sections\": \"Disney Consumer ProductsNI 2\", \"value\": 2193.0}, {\"Year\": 2007, \"Sections\": \"Disney Consumer ProductsNI 2\", \"value\": 2347.0}, {\"Year\": 2008, \"Sections\": \"Disney Consumer ProductsNI 2\", \"value\": 2415.0}, {\"Year\": 2009, \"Sections\": \"Disney Consumer ProductsNI 2\", \"value\": 2425.0}, {\"Year\": 2010, \"Sections\": \"Disney Consumer ProductsNI 2\", \"value\": 2678.0}, {\"Year\": 2011, \"Sections\": \"Disney Consumer ProductsNI 2\", \"value\": 3049.0}, {\"Year\": 2012, \"Sections\": \"Disney Consumer ProductsNI 2\", \"value\": 3252.0}, {\"Year\": 2013, \"Sections\": \"Disney Consumer ProductsNI 2\", \"value\": 3555.0}, {\"Year\": 2014, \"Sections\": \"Disney Consumer ProductsNI 2\", \"value\": 3985.0}, {\"Year\": 2015, \"Sections\": \"Disney Consumer ProductsNI 2\", \"value\": 4499.0}, {\"Year\": 1994, \"Sections\": \"Walt Disney Parks and Resorts\", \"value\": 3463.6}, {\"Year\": 1995, \"Sections\": \"Walt Disney Parks and Resorts\", \"value\": 3959.8}, {\"Year\": 1997, \"Sections\": \"Walt Disney Parks and Resorts\", \"value\": 5014.0}, {\"Year\": 1998, \"Sections\": \"Walt Disney Parks and Resorts\", \"value\": 5532.0}, {\"Year\": 1999, \"Sections\": \"Walt Disney Parks and Resorts\", \"value\": 6106.0}, {\"Year\": 2000, \"Sections\": \"Walt Disney Parks and Resorts\", \"value\": 6803.0}, {\"Year\": 2001, \"Sections\": \"Walt Disney Parks and Resorts\", \"value\": 6009.0}, {\"Year\": 2002, \"Sections\": \"Walt Disney Parks and Resorts\", \"value\": 6691.0}, {\"Year\": 2003, \"Sections\": \"Walt Disney Parks and Resorts\", \"value\": 6412.0}, {\"Year\": 2004, \"Sections\": \"Walt Disney Parks and Resorts\", \"value\": 7750.0}, {\"Year\": 2005, \"Sections\": \"Walt Disney Parks and Resorts\", \"value\": 9023.0}, {\"Year\": 2006, \"Sections\": \"Walt Disney Parks and Resorts\", \"value\": 9925.0}, {\"Year\": 2007, \"Sections\": \"Walt Disney Parks and Resorts\", \"value\": 10626.0}, {\"Year\": 2008, \"Sections\": \"Walt Disney Parks and Resorts\", \"value\": 11504.0}, {\"Year\": 2009, \"Sections\": \"Walt Disney Parks and Resorts\", \"value\": 10667.0}, {\"Year\": 2010, \"Sections\": \"Walt Disney Parks and Resorts\", \"value\": 10761.0}, {\"Year\": 2011, \"Sections\": \"Walt Disney Parks and Resorts\", \"value\": 11797.0}, {\"Year\": 2012, \"Sections\": \"Walt Disney Parks and Resorts\", \"value\": 12920.0}, {\"Year\": 2013, \"Sections\": \"Walt Disney Parks and Resorts\", \"value\": 14087.0}, {\"Year\": 2014, \"Sections\": \"Walt Disney Parks and Resorts\", \"value\": 15099.0}, {\"Year\": 2015, \"Sections\": \"Walt Disney Parks and Resorts\", \"value\": 16162.0}, {\"Year\": 1994, \"Sections\": \"Disney_Media_Networks\", \"value\": 359.0}, {\"Year\": 1995, \"Sections\": \"Disney_Media_Networks\", \"value\": 414.0}, {\"Year\": 1997, \"Sections\": \"Disney_Media_Networks\", \"value\": 6522.0}, {\"Year\": 1998, \"Sections\": \"Disney_Media_Networks\", \"value\": 7142.0}, {\"Year\": 1999, \"Sections\": \"Disney_Media_Networks\", \"value\": 7512.0}, {\"Year\": 2000, \"Sections\": \"Disney_Media_Networks\", \"value\": 9615.0}, {\"Year\": 2001, \"Sections\": \"Disney_Media_Networks\", \"value\": 9569.0}, {\"Year\": 2002, \"Sections\": \"Disney_Media_Networks\", \"value\": 9733.0}, {\"Year\": 2003, \"Sections\": \"Disney_Media_Networks\", \"value\": 10941.0}, {\"Year\": 2004, \"Sections\": \"Disney_Media_Networks\", \"value\": 11778.0}, {\"Year\": 2005, \"Sections\": \"Disney_Media_Networks\", \"value\": 13207.0}, {\"Year\": 2006, \"Sections\": \"Disney_Media_Networks\", \"value\": 14368.0}, {\"Year\": 2007, \"Sections\": \"Disney_Media_Networks\", \"value\": 15046.0}, {\"Year\": 2008, \"Sections\": \"Disney_Media_Networks\", \"value\": 15857.0}, {\"Year\": 2009, \"Sections\": \"Disney_Media_Networks\", \"value\": 16209.0}, {\"Year\": 2010, \"Sections\": \"Disney_Media_Networks\", \"value\": 17162.0}, {\"Year\": 2011, \"Sections\": \"Disney_Media_Networks\", \"value\": 18714.0}, {\"Year\": 2012, \"Sections\": \"Disney_Media_Networks\", \"value\": 19436.0}, {\"Year\": 2013, \"Sections\": \"Disney_Media_Networks\", \"value\": 20356.0}, {\"Year\": 2014, \"Sections\": \"Disney_Media_Networks\", \"value\": 21152.0}, {\"Year\": 2015, \"Sections\": \"Disney_Media_Networks\", \"value\": 23264.0}]}}, {\"mode\": \"vega-lite\"});\n",
       "</script>"
      ],
      "text/plain": [
       "alt.Chart(...)"
      ]
     },
     "execution_count": 7,
     "metadata": {},
     "output_type": "execute_result"
    }
   ],
   "source": [
    "plotM = alt.Chart(melted_revenues1).mark_line().encode(\n",
    "    x = 'Year:Q',\n",
    "    y = 'value:Q',\n",
    "    color = 'Sections:N'\n",
    ")\n",
    "plotM"
   ]
  },
  {
   "cell_type": "code",
   "execution_count": 14,
   "metadata": {
    "tags": []
   },
   "outputs": [
    {
     "data": {
      "text/html": [
       "<div>\n",
       "<style scoped>\n",
       "    .dataframe tbody tr th:only-of-type {\n",
       "        vertical-align: middle;\n",
       "    }\n",
       "\n",
       "    .dataframe tbody tr th {\n",
       "        vertical-align: top;\n",
       "    }\n",
       "\n",
       "    .dataframe thead th {\n",
       "        text-align: right;\n",
       "    }\n",
       "</style>\n",
       "<table border=\"1\" class=\"dataframe\">\n",
       "  <thead>\n",
       "    <tr style=\"text-align: right;\">\n",
       "      <th></th>\n",
       "      <th>Sections</th>\n",
       "      <th>Year</th>\n",
       "      <th>value</th>\n",
       "    </tr>\n",
       "  </thead>\n",
       "  <tbody>\n",
       "    <tr>\n",
       "      <th>0</th>\n",
       "      <td>Disney Consumer ProductsNI 2</td>\n",
       "      <td>2004.904762</td>\n",
       "      <td>2807.866667</td>\n",
       "    </tr>\n",
       "    <tr>\n",
       "      <th>1</th>\n",
       "      <td>Disney_Media_Networks</td>\n",
       "      <td>2004.904762</td>\n",
       "      <td>12778.857143</td>\n",
       "    </tr>\n",
       "    <tr>\n",
       "      <th>2</th>\n",
       "      <td>Studio EntertainmentNI 1</td>\n",
       "      <td>2004.904762</td>\n",
       "      <td>6776.357143</td>\n",
       "    </tr>\n",
       "    <tr>\n",
       "      <th>3</th>\n",
       "      <td>Walt Disney Parks and Resorts</td>\n",
       "      <td>2004.904762</td>\n",
       "      <td>9062.447619</td>\n",
       "    </tr>\n",
       "  </tbody>\n",
       "</table>\n",
       "</div>"
      ],
      "text/plain": [
       "                        Sections         Year         value\n",
       "0   Disney Consumer ProductsNI 2  2004.904762   2807.866667\n",
       "1          Disney_Media_Networks  2004.904762  12778.857143\n",
       "2       Studio EntertainmentNI 1  2004.904762   6776.357143\n",
       "3  Walt Disney Parks and Resorts  2004.904762   9062.447619"
      ]
     },
     "execution_count": 14,
     "metadata": {},
     "output_type": "execute_result"
    }
   ],
   "source": [
    "# A bar chart showing averages for these years\n",
    "barMean = melted_revenues1.groupby('Sections').mean('value').reset_index()\n",
    "barMean"
   ]
  },
  {
   "cell_type": "code",
   "execution_count": 17,
   "metadata": {
    "tags": [
     "hide-input"
    ]
   },
   "outputs": [
    {
     "data": {
      "text/html": [
       "\n",
       "<div id=\"altair-viz-9a5efed17509457ab41d6a3e99fe2b81\"></div>\n",
       "<script type=\"text/javascript\">\n",
       "  var VEGA_DEBUG = (typeof VEGA_DEBUG == \"undefined\") ? {} : VEGA_DEBUG;\n",
       "  (function(spec, embedOpt){\n",
       "    let outputDiv = document.currentScript.previousElementSibling;\n",
       "    if (outputDiv.id !== \"altair-viz-9a5efed17509457ab41d6a3e99fe2b81\") {\n",
       "      outputDiv = document.getElementById(\"altair-viz-9a5efed17509457ab41d6a3e99fe2b81\");\n",
       "    }\n",
       "    const paths = {\n",
       "      \"vega\": \"https://cdn.jsdelivr.net/npm//vega@5?noext\",\n",
       "      \"vega-lib\": \"https://cdn.jsdelivr.net/npm//vega-lib?noext\",\n",
       "      \"vega-lite\": \"https://cdn.jsdelivr.net/npm//vega-lite@4.17.0?noext\",\n",
       "      \"vega-embed\": \"https://cdn.jsdelivr.net/npm//vega-embed@6?noext\",\n",
       "    };\n",
       "\n",
       "    function maybeLoadScript(lib, version) {\n",
       "      var key = `${lib.replace(\"-\", \"\")}_version`;\n",
       "      return (VEGA_DEBUG[key] == version) ?\n",
       "        Promise.resolve(paths[lib]) :\n",
       "        new Promise(function(resolve, reject) {\n",
       "          var s = document.createElement('script');\n",
       "          document.getElementsByTagName(\"head\")[0].appendChild(s);\n",
       "          s.async = true;\n",
       "          s.onload = () => {\n",
       "            VEGA_DEBUG[key] = version;\n",
       "            return resolve(paths[lib]);\n",
       "          };\n",
       "          s.onerror = () => reject(`Error loading script: ${paths[lib]}`);\n",
       "          s.src = paths[lib];\n",
       "        });\n",
       "    }\n",
       "\n",
       "    function showError(err) {\n",
       "      outputDiv.innerHTML = `<div class=\"error\" style=\"color:red;\">${err}</div>`;\n",
       "      throw err;\n",
       "    }\n",
       "\n",
       "    function displayChart(vegaEmbed) {\n",
       "      vegaEmbed(outputDiv, spec, embedOpt)\n",
       "        .catch(err => showError(`Javascript Error: ${err.message}<br>This usually means there's a typo in your chart specification. See the javascript console for the full traceback.`));\n",
       "    }\n",
       "\n",
       "    if(typeof define === \"function\" && define.amd) {\n",
       "      requirejs.config({paths});\n",
       "      require([\"vega-embed\"], displayChart, err => showError(`Error loading script: ${err.message}`));\n",
       "    } else {\n",
       "      maybeLoadScript(\"vega\", \"5\")\n",
       "        .then(() => maybeLoadScript(\"vega-lite\", \"4.17.0\"))\n",
       "        .then(() => maybeLoadScript(\"vega-embed\", \"6\"))\n",
       "        .catch(showError)\n",
       "        .then(() => displayChart(vegaEmbed));\n",
       "    }\n",
       "  })({\"config\": {\"view\": {\"continuousWidth\": 400, \"continuousHeight\": 300}}, \"data\": {\"name\": \"data-bced2895ac2fe689103b075b9f15a97c\"}, \"mark\": \"bar\", \"encoding\": {\"color\": {\"field\": \"Sections\", \"type\": \"nominal\"}, \"x\": {\"field\": \"value\", \"type\": \"quantitative\"}, \"y\": {\"field\": \"Sections\", \"type\": \"nominal\"}}, \"$schema\": \"https://vega.github.io/schema/vega-lite/v4.17.0.json\", \"datasets\": {\"data-bced2895ac2fe689103b075b9f15a97c\": [{\"Sections\": \"Disney Consumer ProductsNI 2\", \"Year\": 2004.904761904762, \"value\": 2807.8666666666663}, {\"Sections\": \"Disney_Media_Networks\", \"Year\": 2004.904761904762, \"value\": 12778.857142857143}, {\"Sections\": \"Studio EntertainmentNI 1\", \"Year\": 2004.904761904762, \"value\": 6776.357142857143}, {\"Sections\": \"Walt Disney Parks and Resorts\", \"Year\": 2004.904761904762, \"value\": 9062.447619047618}]}}, {\"mode\": \"vega-lite\"});\n",
       "</script>"
      ],
      "text/plain": [
       "alt.Chart(...)"
      ]
     },
     "execution_count": 17,
     "metadata": {},
     "output_type": "execute_result"
    }
   ],
   "source": [
    "alt.Chart(barMean).mark_bar().encode(\n",
    "    x='value',\n",
    "    y='Sections',\n",
    "    color = 'Sections'\n",
    ")"
   ]
  },
  {
   "cell_type": "markdown",
   "metadata": {},
   "source": [
    "As indicated by the graph, after excluding Interactive section due to lack of data, for years without NaN data, sections that demonstrate steady growth are Media Networkss and Consumer Products. Studio Entertainment, which appears to be where the animated movies fall under (at least for box office, if not re-production of the movie copyright), seems to be more or less stagnant in growth. \n"
   ]
  },
  {
   "cell_type": "markdown",
   "metadata": {},
   "source": [
    "```{note}\n",
    "Did you pay attention to the differences in revenue and net revenue? Well, I most certainly did not when I was creating this project. Hence, just to clarify, the most revenue generating may not equal to the most 'profiting'. See below a simple equation for explanation from this source(https://www.investopedia.com/terms/r/revenue.asp), {cite:p}`Ada22`\n",
    "\n",
    "```"
   ]
  },
  {
   "cell_type": "markdown",
   "metadata": {},
   "source": [
    "```{math}\n",
    ":label: revenue\n",
    "  Revenue = ({Quantity~Sold}\\times{Unit~Price})\n",
    "```"
   ]
  },
  {
   "cell_type": "markdown",
   "metadata": {},
   "source": [
    "```{math}\n",
    ":label: net-revenue\n",
    "  Net~Revenue = ({Quantity~Sold}\\times{Unit~Price})-{Discounts}-{Allowances}-{Returns}\n",
    "```"
   ]
  }
 ],
 "metadata": {
  "kernelspec": {
   "display_name": "Python 3",
   "language": "python",
   "name": "python3"
  },
  "language_info": {
   "codemirror_mode": {
    "name": "ipython",
    "version": 3
   },
   "file_extension": ".py",
   "mimetype": "text/x-python",
   "name": "python",
   "nbconvert_exporter": "python",
   "pygments_lexer": "ipython3",
   "version": "3.9.12"
  },
  "widgets": {
   "application/vnd.jupyter.widget-state+json": {
    "state": {},
    "version_major": 2,
    "version_minor": 0
   }
  }
 },
 "nbformat": 4,
 "nbformat_minor": 4
}
